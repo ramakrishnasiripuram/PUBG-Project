{
 "cells": [
  {
   "cell_type": "code",
   "execution_count": 1,
   "metadata": {},
   "outputs": [],
   "source": [
    "import numpy as np\n",
    "import matplotlib.pyplot as plt\n",
    "import pandas as pd\n",
    "import seaborn as sns\n",
    "plt.style.use('classic')\n",
    "sns.set_style('darkgrid')"
   ]
  },
  {
   "cell_type": "markdown",
   "metadata": {},
   "source": [
    "# 1. Read the Data set"
   ]
  },
  {
   "cell_type": "code",
   "execution_count": 5,
   "metadata": {},
   "outputs": [],
   "source": [
    "\n",
    "# Importing pubg dataset\n",
    "pubg=pd.read_csv('pubg - Dr. Darshan Ingle.csv')"
   ]
  },
  {
   "cell_type": "markdown",
   "metadata": {},
   "source": [
    "# 2. Check the datatype of all the columns."
   ]
  },
  {
   "cell_type": "code",
   "execution_count": 6,
   "metadata": {},
   "outputs": [
    {
     "data": {
      "text/plain": [
       "Id                  object\n",
       "groupId             object\n",
       "matchId             object\n",
       "assists              int64\n",
       "boosts               int64\n",
       "damageDealt        float64\n",
       "DBNOs                int64\n",
       "headshotKills        int64\n",
       "heals                int64\n",
       "killPlace            int64\n",
       "killPoints           int64\n",
       "kills                int64\n",
       "killStreaks          int64\n",
       "longestKill        float64\n",
       "matchDuration        int64\n",
       "matchType           object\n",
       "maxPlace             int64\n",
       "numGroups            int64\n",
       "rankPoints           int64\n",
       "revives              int64\n",
       "rideDistance       float64\n",
       "roadKills            int64\n",
       "swimDistance       float64\n",
       "teamKills            int64\n",
       "vehicleDestroys      int64\n",
       "walkDistance       float64\n",
       "weaponsAcquired      int64\n",
       "winPoints            int64\n",
       "winPlacePerc       float64\n",
       "dtype: object"
      ]
     },
     "execution_count": 6,
     "metadata": {},
     "output_type": "execute_result"
    }
   ],
   "source": [
    "pubg.dtypes"
   ]
  },
  {
   "cell_type": "markdown",
   "metadata": {},
   "source": [
    "# 3. Find the summary of all the numerical columns and write your findings about it."
   ]
  },
  {
   "cell_type": "code",
   "execution_count": 7,
   "metadata": {},
   "outputs": [
    {
     "data": {
      "text/html": [
       "<div>\n",
       "<style scoped>\n",
       "    .dataframe tbody tr th:only-of-type {\n",
       "        vertical-align: middle;\n",
       "    }\n",
       "\n",
       "    .dataframe tbody tr th {\n",
       "        vertical-align: top;\n",
       "    }\n",
       "\n",
       "    .dataframe thead th {\n",
       "        text-align: right;\n",
       "    }\n",
       "</style>\n",
       "<table border=\"1\" class=\"dataframe\">\n",
       "  <thead>\n",
       "    <tr style=\"text-align: right;\">\n",
       "      <th></th>\n",
       "      <th>assists</th>\n",
       "      <th>boosts</th>\n",
       "      <th>damageDealt</th>\n",
       "      <th>DBNOs</th>\n",
       "      <th>headshotKills</th>\n",
       "      <th>heals</th>\n",
       "      <th>killPlace</th>\n",
       "      <th>killPoints</th>\n",
       "      <th>kills</th>\n",
       "      <th>killStreaks</th>\n",
       "      <th>longestKill</th>\n",
       "      <th>matchDuration</th>\n",
       "      <th>maxPlace</th>\n",
       "      <th>numGroups</th>\n",
       "      <th>rankPoints</th>\n",
       "      <th>revives</th>\n",
       "      <th>rideDistance</th>\n",
       "      <th>roadKills</th>\n",
       "      <th>swimDistance</th>\n",
       "      <th>teamKills</th>\n",
       "      <th>vehicleDestroys</th>\n",
       "      <th>walkDistance</th>\n",
       "      <th>weaponsAcquired</th>\n",
       "      <th>winPoints</th>\n",
       "      <th>winPlacePerc</th>\n",
       "    </tr>\n",
       "  </thead>\n",
       "  <tbody>\n",
       "    <tr>\n",
       "      <th>count</th>\n",
       "      <td>10000.000</td>\n",
       "      <td>10000.000</td>\n",
       "      <td>10000.000</td>\n",
       "      <td>10000.000</td>\n",
       "      <td>10000.000</td>\n",
       "      <td>10000.000</td>\n",
       "      <td>10000.000</td>\n",
       "      <td>10000.000</td>\n",
       "      <td>10000.000</td>\n",
       "      <td>10000.000</td>\n",
       "      <td>10000.000</td>\n",
       "      <td>10000.000</td>\n",
       "      <td>10000.000</td>\n",
       "      <td>10000.000</td>\n",
       "      <td>10000.000</td>\n",
       "      <td>10000.000</td>\n",
       "      <td>10000.000</td>\n",
       "      <td>10000.000</td>\n",
       "      <td>10000.000</td>\n",
       "      <td>10000.000</td>\n",
       "      <td>10000.000</td>\n",
       "      <td>10000.000</td>\n",
       "      <td>10000.000</td>\n",
       "      <td>10000.000</td>\n",
       "      <td>10000.000</td>\n",
       "    </tr>\n",
       "    <tr>\n",
       "      <th>mean</th>\n",
       "      <td>0.235</td>\n",
       "      <td>1.088</td>\n",
       "      <td>129.211</td>\n",
       "      <td>0.644</td>\n",
       "      <td>0.222</td>\n",
       "      <td>1.354</td>\n",
       "      <td>47.663</td>\n",
       "      <td>506.970</td>\n",
       "      <td>0.913</td>\n",
       "      <td>0.544</td>\n",
       "      <td>23.272</td>\n",
       "      <td>1575.398</td>\n",
       "      <td>44.656</td>\n",
       "      <td>43.151</td>\n",
       "      <td>889.700</td>\n",
       "      <td>0.160</td>\n",
       "      <td>600.694</td>\n",
       "      <td>0.004</td>\n",
       "      <td>4.386</td>\n",
       "      <td>0.024</td>\n",
       "      <td>0.008</td>\n",
       "      <td>1130.008</td>\n",
       "      <td>3.636</td>\n",
       "      <td>609.344</td>\n",
       "      <td>0.470</td>\n",
       "    </tr>\n",
       "    <tr>\n",
       "      <th>std</th>\n",
       "      <td>0.575</td>\n",
       "      <td>1.703</td>\n",
       "      <td>167.194</td>\n",
       "      <td>1.096</td>\n",
       "      <td>0.577</td>\n",
       "      <td>2.629</td>\n",
       "      <td>27.424</td>\n",
       "      <td>627.298</td>\n",
       "      <td>1.524</td>\n",
       "      <td>0.702</td>\n",
       "      <td>50.536</td>\n",
       "      <td>258.964</td>\n",
       "      <td>23.801</td>\n",
       "      <td>23.273</td>\n",
       "      <td>738.535</td>\n",
       "      <td>0.454</td>\n",
       "      <td>1524.916</td>\n",
       "      <td>0.075</td>\n",
       "      <td>30.890</td>\n",
       "      <td>0.171</td>\n",
       "      <td>0.090</td>\n",
       "      <td>1168.598</td>\n",
       "      <td>2.422</td>\n",
       "      <td>739.792</td>\n",
       "      <td>0.305</td>\n",
       "    </tr>\n",
       "    <tr>\n",
       "      <th>min</th>\n",
       "      <td>0.000</td>\n",
       "      <td>0.000</td>\n",
       "      <td>0.000</td>\n",
       "      <td>0.000</td>\n",
       "      <td>0.000</td>\n",
       "      <td>0.000</td>\n",
       "      <td>1.000</td>\n",
       "      <td>0.000</td>\n",
       "      <td>0.000</td>\n",
       "      <td>0.000</td>\n",
       "      <td>0.000</td>\n",
       "      <td>464.000</td>\n",
       "      <td>2.000</td>\n",
       "      <td>2.000</td>\n",
       "      <td>-1.000</td>\n",
       "      <td>0.000</td>\n",
       "      <td>0.000</td>\n",
       "      <td>0.000</td>\n",
       "      <td>0.000</td>\n",
       "      <td>0.000</td>\n",
       "      <td>0.000</td>\n",
       "      <td>0.000</td>\n",
       "      <td>0.000</td>\n",
       "      <td>0.000</td>\n",
       "      <td>0.000</td>\n",
       "    </tr>\n",
       "    <tr>\n",
       "      <th>25%</th>\n",
       "      <td>0.000</td>\n",
       "      <td>0.000</td>\n",
       "      <td>0.000</td>\n",
       "      <td>0.000</td>\n",
       "      <td>0.000</td>\n",
       "      <td>0.000</td>\n",
       "      <td>24.000</td>\n",
       "      <td>0.000</td>\n",
       "      <td>0.000</td>\n",
       "      <td>0.000</td>\n",
       "      <td>0.000</td>\n",
       "      <td>1366.000</td>\n",
       "      <td>28.000</td>\n",
       "      <td>27.000</td>\n",
       "      <td>-1.000</td>\n",
       "      <td>0.000</td>\n",
       "      <td>0.000</td>\n",
       "      <td>0.000</td>\n",
       "      <td>0.000</td>\n",
       "      <td>0.000</td>\n",
       "      <td>0.000</td>\n",
       "      <td>151.575</td>\n",
       "      <td>2.000</td>\n",
       "      <td>0.000</td>\n",
       "      <td>0.200</td>\n",
       "    </tr>\n",
       "    <tr>\n",
       "      <th>50%</th>\n",
       "      <td>0.000</td>\n",
       "      <td>0.000</td>\n",
       "      <td>83.805</td>\n",
       "      <td>0.000</td>\n",
       "      <td>0.000</td>\n",
       "      <td>0.000</td>\n",
       "      <td>48.000</td>\n",
       "      <td>0.000</td>\n",
       "      <td>0.000</td>\n",
       "      <td>0.000</td>\n",
       "      <td>0.000</td>\n",
       "      <td>1431.500</td>\n",
       "      <td>30.000</td>\n",
       "      <td>30.000</td>\n",
       "      <td>1444.000</td>\n",
       "      <td>0.000</td>\n",
       "      <td>0.000</td>\n",
       "      <td>0.000</td>\n",
       "      <td>0.000</td>\n",
       "      <td>0.000</td>\n",
       "      <td>0.000</td>\n",
       "      <td>650.350</td>\n",
       "      <td>3.000</td>\n",
       "      <td>0.000</td>\n",
       "      <td>0.458</td>\n",
       "    </tr>\n",
       "    <tr>\n",
       "      <th>75%</th>\n",
       "      <td>0.000</td>\n",
       "      <td>2.000</td>\n",
       "      <td>185.325</td>\n",
       "      <td>1.000</td>\n",
       "      <td>0.000</td>\n",
       "      <td>2.000</td>\n",
       "      <td>71.000</td>\n",
       "      <td>1169.000</td>\n",
       "      <td>1.000</td>\n",
       "      <td>1.000</td>\n",
       "      <td>22.345</td>\n",
       "      <td>1849.250</td>\n",
       "      <td>49.000</td>\n",
       "      <td>47.000</td>\n",
       "      <td>1500.000</td>\n",
       "      <td>0.000</td>\n",
       "      <td>0.001</td>\n",
       "      <td>0.000</td>\n",
       "      <td>0.000</td>\n",
       "      <td>0.000</td>\n",
       "      <td>0.000</td>\n",
       "      <td>1923.250</td>\n",
       "      <td>5.000</td>\n",
       "      <td>1495.000</td>\n",
       "      <td>0.735</td>\n",
       "    </tr>\n",
       "    <tr>\n",
       "      <th>99%</th>\n",
       "      <td>3.000</td>\n",
       "      <td>7.000</td>\n",
       "      <td>743.429</td>\n",
       "      <td>5.000</td>\n",
       "      <td>2.000</td>\n",
       "      <td>12.000</td>\n",
       "      <td>96.000</td>\n",
       "      <td>1663.010</td>\n",
       "      <td>7.000</td>\n",
       "      <td>3.000</td>\n",
       "      <td>240.101</td>\n",
       "      <td>2042.010</td>\n",
       "      <td>99.000</td>\n",
       "      <td>97.000</td>\n",
       "      <td>1755.010</td>\n",
       "      <td>2.000</td>\n",
       "      <td>7133.170</td>\n",
       "      <td>0.000</td>\n",
       "      <td>113.305</td>\n",
       "      <td>1.000</td>\n",
       "      <td>0.000</td>\n",
       "      <td>4281.010</td>\n",
       "      <td>10.000</td>\n",
       "      <td>1627.000</td>\n",
       "      <td>1.000</td>\n",
       "    </tr>\n",
       "    <tr>\n",
       "      <th>max</th>\n",
       "      <td>7.000</td>\n",
       "      <td>18.000</td>\n",
       "      <td>3469.000</td>\n",
       "      <td>11.000</td>\n",
       "      <td>14.000</td>\n",
       "      <td>31.000</td>\n",
       "      <td>100.000</td>\n",
       "      <td>1926.000</td>\n",
       "      <td>35.000</td>\n",
       "      <td>4.000</td>\n",
       "      <td>538.600</td>\n",
       "      <td>2202.000</td>\n",
       "      <td>100.000</td>\n",
       "      <td>100.000</td>\n",
       "      <td>2835.000</td>\n",
       "      <td>5.000</td>\n",
       "      <td>28780.000</td>\n",
       "      <td>3.000</td>\n",
       "      <td>971.200</td>\n",
       "      <td>3.000</td>\n",
       "      <td>2.000</td>\n",
       "      <td>10490.000</td>\n",
       "      <td>41.000</td>\n",
       "      <td>1863.000</td>\n",
       "      <td>1.000</td>\n",
       "    </tr>\n",
       "  </tbody>\n",
       "</table>\n",
       "</div>"
      ],
      "text/plain": [
       "         assists     boosts  damageDealt      DBNOs  headshotKills      heals  \\\n",
       "count  10000.000  10000.000    10000.000  10000.000      10000.000  10000.000   \n",
       "mean       0.235      1.088      129.211      0.644          0.222      1.354   \n",
       "std        0.575      1.703      167.194      1.096          0.577      2.629   \n",
       "min        0.000      0.000        0.000      0.000          0.000      0.000   \n",
       "25%        0.000      0.000        0.000      0.000          0.000      0.000   \n",
       "50%        0.000      0.000       83.805      0.000          0.000      0.000   \n",
       "75%        0.000      2.000      185.325      1.000          0.000      2.000   \n",
       "99%        3.000      7.000      743.429      5.000          2.000     12.000   \n",
       "max        7.000     18.000     3469.000     11.000         14.000     31.000   \n",
       "\n",
       "       killPlace  killPoints      kills  killStreaks  longestKill  \\\n",
       "count  10000.000   10000.000  10000.000    10000.000    10000.000   \n",
       "mean      47.663     506.970      0.913        0.544       23.272   \n",
       "std       27.424     627.298      1.524        0.702       50.536   \n",
       "min        1.000       0.000      0.000        0.000        0.000   \n",
       "25%       24.000       0.000      0.000        0.000        0.000   \n",
       "50%       48.000       0.000      0.000        0.000        0.000   \n",
       "75%       71.000    1169.000      1.000        1.000       22.345   \n",
       "99%       96.000    1663.010      7.000        3.000      240.101   \n",
       "max      100.000    1926.000     35.000        4.000      538.600   \n",
       "\n",
       "       matchDuration   maxPlace  numGroups  rankPoints    revives  \\\n",
       "count      10000.000  10000.000  10000.000   10000.000  10000.000   \n",
       "mean        1575.398     44.656     43.151     889.700      0.160   \n",
       "std          258.964     23.801     23.273     738.535      0.454   \n",
       "min          464.000      2.000      2.000      -1.000      0.000   \n",
       "25%         1366.000     28.000     27.000      -1.000      0.000   \n",
       "50%         1431.500     30.000     30.000    1444.000      0.000   \n",
       "75%         1849.250     49.000     47.000    1500.000      0.000   \n",
       "99%         2042.010     99.000     97.000    1755.010      2.000   \n",
       "max         2202.000    100.000    100.000    2835.000      5.000   \n",
       "\n",
       "       rideDistance  roadKills  swimDistance  teamKills  vehicleDestroys  \\\n",
       "count     10000.000  10000.000     10000.000  10000.000        10000.000   \n",
       "mean        600.694      0.004         4.386      0.024            0.008   \n",
       "std        1524.916      0.075        30.890      0.171            0.090   \n",
       "min           0.000      0.000         0.000      0.000            0.000   \n",
       "25%           0.000      0.000         0.000      0.000            0.000   \n",
       "50%           0.000      0.000         0.000      0.000            0.000   \n",
       "75%           0.001      0.000         0.000      0.000            0.000   \n",
       "99%        7133.170      0.000       113.305      1.000            0.000   \n",
       "max       28780.000      3.000       971.200      3.000            2.000   \n",
       "\n",
       "       walkDistance  weaponsAcquired  winPoints  winPlacePerc  \n",
       "count     10000.000        10000.000  10000.000     10000.000  \n",
       "mean       1130.008            3.636    609.344         0.470  \n",
       "std        1168.598            2.422    739.792         0.305  \n",
       "min           0.000            0.000      0.000         0.000  \n",
       "25%         151.575            2.000      0.000         0.200  \n",
       "50%         650.350            3.000      0.000         0.458  \n",
       "75%        1923.250            5.000   1495.000         0.735  \n",
       "99%        4281.010           10.000   1627.000         1.000  \n",
       "max       10490.000           41.000   1863.000         1.000  "
      ]
     },
     "metadata": {},
     "output_type": "display_data"
    },
    {
     "name": "stdout",
     "output_type": "stream",
     "text": [
      "No. of rows, Average of all values in each column, min and max values in each column, Standard deviation of all \n",
      "values in each column and 25th,50th,75th,99th percentiles of data in each column are displayed\n"
     ]
    }
   ],
   "source": [
    "pd.set_option('display.max_columns',None)\n",
    "display(round(pubg.describe(percentiles=[.25,.75,.99]),3))\n",
    "print('''No. of rows, Average of all values in each column, min and max values in each column, Standard deviation of all \n",
    "values in each column and 25th,50th,75th,99th percentiles of data in each column are displayed''')"
   ]
  },
  {
   "cell_type": "markdown",
   "metadata": {},
   "source": [
    "# 4. The average person kills how many players?"
   ]
  },
  {
   "cell_type": "code",
   "execution_count": 8,
   "metadata": {},
   "outputs": [
    {
     "name": "stdout",
     "output_type": "stream",
     "text": [
      "An average person kills 0.9134 players i.e., approx 1 player\n"
     ]
    }
   ],
   "source": [
    "print('An average person kills {} players i.e., approx {} player'.format((pubg['kills'].mean()),round(pubg['kills'].mean())))"
   ]
  },
  {
   "cell_type": "markdown",
   "metadata": {},
   "source": [
    "# 5. 99% of people have how many kills?"
   ]
  },
  {
   "cell_type": "code",
   "execution_count": 9,
   "metadata": {},
   "outputs": [
    {
     "name": "stdout",
     "output_type": "stream",
     "text": [
      "99% of players has 7 kills\n"
     ]
    }
   ],
   "source": [
    "print('99% of players has {} kills'.format(int(pubg['kills'].quantile(.99))))"
   ]
  },
  {
   "cell_type": "markdown",
   "metadata": {},
   "source": [
    "# 6. The most kills ever recorded are how much?"
   ]
  },
  {
   "cell_type": "code",
   "execution_count": 11,
   "metadata": {},
   "outputs": [
    {
     "name": "stdout",
     "output_type": "stream",
     "text": [
      "Most kills ever recorded is 35\n"
     ]
    }
   ],
   "source": [
    "print('Most kills ever recorded is {}'.format(int(pubg['kills'].max())))"
   ]
  },
  {
   "cell_type": "markdown",
   "metadata": {},
   "source": [
    "# 7. Print all the columns of the dataframe."
   ]
  },
  {
   "cell_type": "code",
   "execution_count": 12,
   "metadata": {},
   "outputs": [
    {
     "name": "stdout",
     "output_type": "stream",
     "text": [
      "Id\n",
      "groupId\n",
      "matchId\n",
      "assists\n",
      "boosts\n",
      "damageDealt\n",
      "DBNOs\n",
      "headshotKills\n",
      "heals\n",
      "killPlace\n",
      "killPoints\n",
      "kills\n",
      "killStreaks\n",
      "longestKill\n",
      "matchDuration\n",
      "matchType\n",
      "maxPlace\n",
      "numGroups\n",
      "rankPoints\n",
      "revives\n",
      "rideDistance\n",
      "roadKills\n",
      "swimDistance\n",
      "teamKills\n",
      "vehicleDestroys\n",
      "walkDistance\n",
      "weaponsAcquired\n",
      "winPoints\n",
      "winPlacePerc\n"
     ]
    }
   ],
   "source": [
    "print(*list(pubg.columns),sep='\\n')"
   ]
  },
  {
   "cell_type": "markdown",
   "metadata": {},
   "source": [
    "# 8. Comment on distribution of the match's duration. Use seaborn."
   ]
  },
  {
   "cell_type": "code",
   "execution_count": 13,
   "metadata": {},
   "outputs": [
    {
     "data": {
      "image/png": "[encoded data removed]",
      "text/plain": [
       "<Figure size 432x288 with 1 Axes>"
      ]
     },
     "metadata": {
      "needs_background": "light"
     },
     "output_type": "display_data"
    },
    {
     "name": "stdout",
     "output_type": "stream",
     "text": [
      "Most matches have a duration between 20.8m-25.0m and 29.2m-33.3m as per below plot\n"
     ]
    }
   ],
   "source": [
    "sns.distplot(pubg['matchDuration'],axlabel='Match Duration (in minutes)');\n",
    "plt.show()\n",
    "print('Most matches have a duration between {:.1f}m-{}m and {:.1f}m-{:.1f}m as per below plot'.format(1250/60,1500/60,1750/60,2000/60))"
   ]
  },
  {
   "cell_type": "markdown",
   "metadata": {},
   "source": [
    "# 9. Comment on distribution of the walk distance. Use seaborn"
   ]
  },
  {
   "cell_type": "code",
   "execution_count": 14,
   "metadata": {},
   "outputs": [
    {
     "data": {
      "image/png": "[encoded data removed]",
      "text/plain": [
       "<Figure size 432x288 with 1 Axes>"
      ]
     },
     "metadata": {
      "needs_background": "light"
     },
     "output_type": "display_data"
    },
    {
     "name": "stdout",
     "output_type": "stream",
     "text": [
      "Maximum distance walked by most of the players is in between 0-200 meters\n"
     ]
    }
   ],
   "source": [
    "plt.xlim(0,1000) #Altering range of x-axis\n",
    "sns.distplot(pubg['walkDistance'],axlabel='Walk Distance (in meters)')\n",
    "plt.show()\n",
    "print('Maximum distance walked by most of the players is in between 0-200 meters')"
   ]
  },
  {
   "cell_type": "markdown",
   "metadata": {},
   "source": [
    "# 10. Plot distribution of the match's duration vs walk distance one below the other."
   ]
  },
  {
   "cell_type": "code",
   "execution_count": 15,
   "metadata": {},
   "outputs": [
    {
     "data": {
      "image/png": "[encoded data removed]",
      "text/plain": [
       "<Figure size 432x288 with 2 Axes>"
      ]
     },
     "metadata": {
      "needs_background": "light"
     },
     "output_type": "display_data"
    }
   ],
   "source": [
    "# Creating Match Duration distribution plot\n",
    "plt.subplot(2,1,1)\n",
    "plt.title('Match Duration Distribution')\n",
    "sns.distplot(pubg['matchDuration'],axlabel='Match Duration (in minutes)');\n",
    "\n",
    "# Creating Walk distance distribution plot\n",
    "plt.subplot(2,1,2)\n",
    "plt.xlim(0,1000)\n",
    "plt.title('Walk Distance Distribution')\n",
    "sns.distplot(pubg['walkDistance'],axlabel='Walk Distance (in meters)');\n",
    "\n",
    "plt.tight_layout()"
   ]
  },
  {
   "cell_type": "markdown",
   "metadata": {},
   "source": [
    "# 11. Plot distribution of the match's duration vs walk distance side by side."
   ]
  },
  {
   "cell_type": "code",
   "execution_count": 16,
   "metadata": {},
   "outputs": [
    {
     "data": {
      "image/png": "[encoded data removed]",
      "text/plain": [
       "<Figure size 720x216 with 2 Axes>"
      ]
     },
     "metadata": {
      "needs_background": "light"
     },
     "output_type": "display_data"
    }
   ],
   "source": [
    "plt.figure(figsize=(10,3))\n",
    "# Creating Match Duration distribution plot\n",
    "plt.subplot(1,2,1)\n",
    "plt.title('Match Duration Distribution')\n",
    "sns.distplot(pubg['matchDuration'],axlabel='Match Duration (in minutes)');\n",
    "\n",
    "# Creating Walk distance distribution plot\n",
    "plt.subplot(1,2,2)\n",
    "plt.xlim(0,1000)\n",
    "plt.title('Walk Distance Distribution')\n",
    "sns.distplot(pubg['walkDistance'],axlabel='Walk Distance (in meters)');\n",
    "\n",
    "plt.tight_layout()"
   ]
  },
  {
   "cell_type": "markdown",
   "metadata": {},
   "source": [
    "# 12. Pairplot the dataframe. Comment on kills vs damage dealt, Comment on maxPlace vs numGroups."
   ]
  },
  {
   "cell_type": "code",
   "execution_count": 17,
   "metadata": {},
   "outputs": [
    {
     "data": {
      "image/png": "[encoded data removed]",
      "text/plain": [
       "<Figure size 540x360 with 4 Axes>"
      ]
     },
     "metadata": {
      "needs_background": "light"
     },
     "output_type": "display_data"
    },
    {
     "name": "stdout",
     "output_type": "stream",
     "text": [
      "Observations:\n",
      "1. Damage dealt is more when kills are increasing. Damage dealth is also seen without kills. \n",
      "2. Highest Damage dealt is at 35 Kills.\n",
      "3. Max Place is directly proportional to Number of groups. The worst placement increases when number of groups is more\n"
     ]
    }
   ],
   "source": [
    "sns.pairplot(pubg,x_vars=['kills','maxPlace'],y_vars=['damageDealt','numGroups'],aspect=1.5);\n",
    "plt.show()\n",
    "print('''Observations:\n",
    "1. Damage dealt is more when kills are increasing. Damage dealth is also seen without kills. \n",
    "2. Highest Damage dealt is at 35 Kills.\n",
    "3. Max Place is directly proportional to Number of groups. The worst placement increases when number of groups is more''')\n"
   ]
  },
  {
   "cell_type": "markdown",
   "metadata": {},
   "source": [
    "# 13. How many unique values are there in 'matchType' and what are their counts?"
   ]
  },
  {
   "cell_type": "code",
   "execution_count": 18,
   "metadata": {},
   "outputs": [
    {
     "name": "stdout",
     "output_type": "stream",
     "text": [
      "Unique values in Match Type are 14\n",
      "\n",
      "Counts of each unique value in Match Type are below \n",
      "\n",
      "squad-fpp           3969\n",
      "duo-fpp             2282\n",
      "squad               1359\n",
      "solo-fpp            1234\n",
      "duo                  702\n",
      "solo                 386\n",
      "normal-squad-fpp      24\n",
      "crashfpp              13\n",
      "normal-duo-fpp        13\n",
      "normal-solo-fpp        8\n",
      "normal-squad           4\n",
      "flaretpp               3\n",
      "crashtpp               2\n",
      "flarefpp               1\n",
      "Name: matchType, dtype: int64\n"
     ]
    }
   ],
   "source": [
    "print('Unique values in Match Type are {}'.format(pubg['matchType'].nunique()))\n",
    "print('\\nCounts of each unique value in Match Type are below \\n\\n{}'.format(pubg.matchType.value_counts()))"
   ]
  },
  {
   "cell_type": "markdown",
   "metadata": {},
   "source": [
    "# 14. Plot a barplot of ‘matchType’ vs 'killPoints'. Write your inferences."
   ]
  },
  {
   "cell_type": "code",
   "execution_count": 19,
   "metadata": {},
   "outputs": [
    {
     "name": "stdout",
     "output_type": "stream",
     "text": [
      "Observations:\n",
      "1. Highest kill points are recorded in normal-duo-fpp followed by normal-squad-fpp i.e., most players tend to play Duo FPP and Squad FPP\n",
      "2. Solo players have kills points almost near to what Duo players have\n",
      "Squad FPP, Normal Squad and Normal Solo FPP have almost similar range of kill points\n"
     ]
    },
    {
     "data": {
      "image/png": "[encoded data removed]",
      "text/plain": [
       "<Figure size 432x288 with 1 Axes>"
      ]
     },
     "metadata": {
      "needs_background": "light"
     },
     "output_type": "display_data"
    }
   ],
   "source": [
    "plt.xticks(rotation=65)\n",
    "plt.xlabel('Match Type')\n",
    "sns.barplot(x='matchType',y='killPoints',data=pubg).set(xlabel='Match Type',ylabel='Kill Points');\n",
    "\n",
    "print('''Observations:\n",
    "1. Highest kill points are recorded in normal-duo-fpp followed by normal-squad-fpp i.e., most players tend to play Duo FPP and Squad FPP\n",
    "2. Solo players have kills points almost near to what Duo players have\n",
    "Squad FPP, Normal Squad and Normal Solo FPP have almost similar range of kill points''')"
   ]
  },
  {
   "cell_type": "markdown",
   "metadata": {},
   "source": [
    "# 15. Plot a barplot of ‘matchType’ vs ‘weaponsAcquired’. Write your inferences."
   ]
  },
  {
   "cell_type": "code",
   "execution_count": 20,
   "metadata": {},
   "outputs": [
    {
     "name": "stdout",
     "output_type": "stream",
     "text": [
      "Observations:\n",
      "1. Looking at the graph, it looks like the avarage Weapons acquired is high in normal-solo-fpp and normal-squad-fpp but the \n",
      "high error bar also indicates that there is high uncertainity in their data when compared to others.\n",
      "2. The average weapons acquired is similar for squad-fpp,squad,duo-fpp,solo-fpp,duo and solo having minimal error bar \n",
      "indicating the uncertainity in their data is minimal.\n"
     ]
    },
    {
     "data": {
      "image/png": "[encoded data removed]",
      "text/plain": [
       "<Figure size 432x288 with 1 Axes>"
      ]
     },
     "metadata": {
      "needs_background": "light"
     },
     "output_type": "display_data"
    }
   ],
   "source": [
    "plt.xticks(rotation=65)\n",
    "plt.xlabel('Match Type')\n",
    "sns.barplot(x='matchType',y='weaponsAcquired',data=pubg).set(xlabel='Match Type',ylabel='Weapons Acquired');\n",
    "\n",
    "print('''Observations:\n",
    "1. Looking at the graph, it looks like the avarage Weapons acquired is high in normal-solo-fpp and normal-squad-fpp but the \n",
    "high error bar also indicates that there is high uncertainity in their data when compared to others.\n",
    "2. The average weapons acquired is similar for squad-fpp,squad,duo-fpp,solo-fpp,duo and solo having minimal error bar \n",
    "indicating the uncertainity in their data is minimal.''')"
   ]
  },
  {
   "cell_type": "markdown",
   "metadata": {},
   "source": [
    "# 16. Find the Categorical columns."
   ]
  },
  {
   "cell_type": "code",
   "execution_count": 21,
   "metadata": {},
   "outputs": [
    {
     "name": "stdout",
     "output_type": "stream",
     "text": [
      "Id\n",
      "groupId\n",
      "matchId\n",
      "matchType\n"
     ]
    }
   ],
   "source": [
    "print(*pubg.select_dtypes(include='object').describe().columns.tolist(),sep='\\n')"
   ]
  },
  {
   "cell_type": "markdown",
   "metadata": {},
   "source": [
    "# 17. Plot a boxplot of ‘matchType’ vs ‘winPlacePerc’. Write your inferences."
   ]
  },
  {
   "cell_type": "code",
   "execution_count": 22,
   "metadata": {},
   "outputs": [
    {
     "name": "stdout",
     "output_type": "stream",
     "text": [
      "Observations:\n",
      "1. It is observed that there are no outliers in the plot\n",
      "2. Normal Squad fpp has winning placements more towards last place\n",
      "3. Placements in duo-fpp,solo-fpp,duo and solo are mostly in mid-order i.e., neither to the winning side nor to the losing side\n",
      "4. None of the groups in the data that played normal solo fpp neither lost nor won\n",
      "5. All groups of squad-fpp,squad,duo-fpp,duo,solo,normal-solo-fpp listed in the data have equal distribution of placement towards 1st and last place\n"
     ]
    },
    {
     "data": {
      "image/png": "[encoded data removed]",
      "text/plain": [
       "<Figure size 432x288 with 1 Axes>"
      ]
     },
     "metadata": {
      "needs_background": "light"
     },
     "output_type": "display_data"
    }
   ],
   "source": [
    "plt.xticks(rotation=60)\n",
    "sns.boxplot(x='matchType',y='winPlacePerc',data=pubg).set(xlabel='Match Type',ylabel='Winning Placement Percentile',ylim=(-.1,1.1));\n",
    "print('''Observations:\n",
    "1. It is observed that there are no outliers in the plot\n",
    "2. Normal Squad fpp has winning placements more towards last place\n",
    "3. Placements in duo-fpp,solo-fpp,duo and solo are mostly in mid-order i.e., neither to the winning side nor to the losing side\n",
    "4. None of the groups in the data that played normal solo fpp neither lost nor won\n",
    "5. All groups of squad-fpp,squad,duo-fpp,duo,solo,normal-solo-fpp listed in the data have equal distribution of placement towards 1st and last place''')"
   ]
  },
  {
   "cell_type": "markdown",
   "metadata": {},
   "source": [
    "# 18. Plot a boxplot of ‘matchType’ vs ‘matchDuration’. Write your inferences."
   ]
  },
  {
   "cell_type": "code",
   "execution_count": 23,
   "metadata": {},
   "outputs": [
    {
     "name": "stdout",
     "output_type": "stream",
     "text": [
      "Observations:\n",
      "1. 50% of squad-fpp,squad,duo-fpp,solo-fpp,duo and solo matches has less than ~24 minutes\n",
      "2. Matches of normal-squad-fpp has the lowest duration of all matches\n",
      "3. 50% of normal-squad-fpp has ~32 minutes or less\n",
      "4. normal-squad-fpp and normal-squad has even distribution compared to others\n"
     ]
    },
    {
     "data": {
      "image/png": "[encoded data removed]",
      "text/plain": [
       "<Figure size 432x288 with 1 Axes>"
      ]
     },
     "metadata": {
      "needs_background": "light"
     },
     "output_type": "display_data"
    }
   ],
   "source": [
    "\n",
    "#Using the below function to convert matchDuration to minutes and then plot\n",
    "def minutes(x):\n",
    "    return round(x/60,2)\n",
    "pubg['durationMin'] = pubg['matchDuration'].apply(minutes)\n",
    "\n",
    "plt.xticks(rotation=60)\n",
    "sns.boxplot(x='matchType',y='durationMin',data=pubg).set(xlabel='Match Type',ylabel='Match Duration');\n",
    "print('''Observations:\n",
    "1. 50% of squad-fpp,squad,duo-fpp,solo-fpp,duo and solo matches has less than ~24 minutes\n",
    "2. Matches of normal-squad-fpp has the lowest duration of all matches\n",
    "3. 50% of normal-squad-fpp has ~32 minutes or less\n",
    "4. normal-squad-fpp and normal-squad has even distribution compared to others''')"
   ]
  },
  {
   "cell_type": "markdown",
   "metadata": {},
   "source": [
    "# 19. Change the orientation of the above plot to horizontal."
   ]
  },
  {
   "cell_type": "code",
   "execution_count": 24,
   "metadata": {},
   "outputs": [
    {
     "data": {
      "image/png": "[encoded data removed]",
      "text/plain": [
       "<Figure size 432x288 with 1 Axes>"
      ]
     },
     "metadata": {
      "needs_background": "light"
     },
     "output_type": "display_data"
    }
   ],
   "source": [
    "# parameter orient=\"v\" or \"h\" cannot be used in this instance since both axis should have number values to change orientation\n",
    "# using the orient parameter.\n",
    "# So changing the orientation by interchanging the x,y values\n",
    "sns.boxplot(x='durationMin',y='matchType',data=pubg,orient='h').set(xlabel='Match Duration',ylabel='Match Type');"
   ]
  },
  {
   "cell_type": "markdown",
   "metadata": {},
   "source": [
    "# 20. Add a new column called ‘KILL’ which contains the sum of following columns viz. headshotKills, teamKills, roadKills."
   ]
  },
  {
   "cell_type": "code",
   "execution_count": 25,
   "metadata": {},
   "outputs": [
    {
     "data": {
      "text/html": [
       "<div>\n",
       "<style scoped>\n",
       "    .dataframe tbody tr th:only-of-type {\n",
       "        vertical-align: middle;\n",
       "    }\n",
       "\n",
       "    .dataframe tbody tr th {\n",
       "        vertical-align: top;\n",
       "    }\n",
       "\n",
       "    .dataframe thead th {\n",
       "        text-align: right;\n",
       "    }\n",
       "</style>\n",
       "<table border=\"1\" class=\"dataframe\">\n",
       "  <thead>\n",
       "    <tr style=\"text-align: right;\">\n",
       "      <th></th>\n",
       "      <th>headshotKills</th>\n",
       "      <th>teamKills</th>\n",
       "      <th>roadKills</th>\n",
       "      <th>Kill</th>\n",
       "    </tr>\n",
       "  </thead>\n",
       "  <tbody>\n",
       "    <tr>\n",
       "      <th>0</th>\n",
       "      <td>0</td>\n",
       "      <td>0</td>\n",
       "      <td>0</td>\n",
       "      <td>0</td>\n",
       "    </tr>\n",
       "    <tr>\n",
       "      <th>1</th>\n",
       "      <td>1</td>\n",
       "      <td>0</td>\n",
       "      <td>0</td>\n",
       "      <td>1</td>\n",
       "    </tr>\n",
       "    <tr>\n",
       "      <th>2</th>\n",
       "      <td>1</td>\n",
       "      <td>0</td>\n",
       "      <td>0</td>\n",
       "      <td>1</td>\n",
       "    </tr>\n",
       "    <tr>\n",
       "      <th>3</th>\n",
       "      <td>0</td>\n",
       "      <td>0</td>\n",
       "      <td>0</td>\n",
       "      <td>0</td>\n",
       "    </tr>\n",
       "    <tr>\n",
       "      <th>4</th>\n",
       "      <td>0</td>\n",
       "      <td>0</td>\n",
       "      <td>0</td>\n",
       "      <td>0</td>\n",
       "    </tr>\n",
       "  </tbody>\n",
       "</table>\n",
       "</div>"
      ],
      "text/plain": [
       "   headshotKills  teamKills  roadKills  Kill\n",
       "0              0          0          0     0\n",
       "1              1          0          0     1\n",
       "2              1          0          0     1\n",
       "3              0          0          0     0\n",
       "4              0          0          0     0"
      ]
     },
     "execution_count": 25,
     "metadata": {},
     "output_type": "execute_result"
    }
   ],
   "source": [
    "pubg['Kill']=pubg[['headshotKills','teamKills','roadKills']].apply(sum,axis=1)\n",
    "pubg[['headshotKills','teamKills','roadKills','Kill']].head()"
   ]
  },
  {
   "cell_type": "markdown",
   "metadata": {},
   "source": [
    "# 21. Round off column ‘winPlacePerc’ to 2 decimals."
   ]
  },
  {
   "cell_type": "code",
   "execution_count": 26,
   "metadata": {},
   "outputs": [
    {
     "name": "stdout",
     "output_type": "stream",
     "text": [
      "Original Values\n",
      "\n"
     ]
    },
    {
     "data": {
      "text/html": [
       "<div>\n",
       "<style scoped>\n",
       "    .dataframe tbody tr th:only-of-type {\n",
       "        vertical-align: middle;\n",
       "    }\n",
       "\n",
       "    .dataframe tbody tr th {\n",
       "        vertical-align: top;\n",
       "    }\n",
       "\n",
       "    .dataframe thead th {\n",
       "        text-align: right;\n",
       "    }\n",
       "</style>\n",
       "<table border=\"1\" class=\"dataframe\">\n",
       "  <thead>\n",
       "    <tr style=\"text-align: right;\">\n",
       "      <th></th>\n",
       "      <th>winPlacePerc</th>\n",
       "    </tr>\n",
       "  </thead>\n",
       "  <tbody>\n",
       "    <tr>\n",
       "      <th>0</th>\n",
       "      <td>0.0000</td>\n",
       "    </tr>\n",
       "    <tr>\n",
       "      <th>1</th>\n",
       "      <td>0.2222</td>\n",
       "    </tr>\n",
       "    <tr>\n",
       "      <th>2</th>\n",
       "      <td>0.8571</td>\n",
       "    </tr>\n",
       "    <tr>\n",
       "      <th>3</th>\n",
       "      <td>0.3462</td>\n",
       "    </tr>\n",
       "    <tr>\n",
       "      <th>4</th>\n",
       "      <td>0.0690</td>\n",
       "    </tr>\n",
       "  </tbody>\n",
       "</table>\n",
       "</div>"
      ],
      "text/plain": [
       "   winPlacePerc\n",
       "0        0.0000\n",
       "1        0.2222\n",
       "2        0.8571\n",
       "3        0.3462\n",
       "4        0.0690"
      ]
     },
     "metadata": {},
     "output_type": "display_data"
    },
    {
     "name": "stdout",
     "output_type": "stream",
     "text": [
      "\n",
      "\n",
      "Rounded values to 2 decimals\n"
     ]
    },
    {
     "data": {
      "text/html": [
       "<div>\n",
       "<style scoped>\n",
       "    .dataframe tbody tr th:only-of-type {\n",
       "        vertical-align: middle;\n",
       "    }\n",
       "\n",
       "    .dataframe tbody tr th {\n",
       "        vertical-align: top;\n",
       "    }\n",
       "\n",
       "    .dataframe thead th {\n",
       "        text-align: right;\n",
       "    }\n",
       "</style>\n",
       "<table border=\"1\" class=\"dataframe\">\n",
       "  <thead>\n",
       "    <tr style=\"text-align: right;\">\n",
       "      <th></th>\n",
       "      <th>winPlacePerc</th>\n",
       "    </tr>\n",
       "  </thead>\n",
       "  <tbody>\n",
       "    <tr>\n",
       "      <th>0</th>\n",
       "      <td>0.00</td>\n",
       "    </tr>\n",
       "    <tr>\n",
       "      <th>1</th>\n",
       "      <td>0.22</td>\n",
       "    </tr>\n",
       "    <tr>\n",
       "      <th>2</th>\n",
       "      <td>0.86</td>\n",
       "    </tr>\n",
       "    <tr>\n",
       "      <th>3</th>\n",
       "      <td>0.35</td>\n",
       "    </tr>\n",
       "    <tr>\n",
       "      <th>4</th>\n",
       "      <td>0.07</td>\n",
       "    </tr>\n",
       "  </tbody>\n",
       "</table>\n",
       "</div>"
      ],
      "text/plain": [
       "   winPlacePerc\n",
       "0          0.00\n",
       "1          0.22\n",
       "2          0.86\n",
       "3          0.35\n",
       "4          0.07"
      ]
     },
     "metadata": {},
     "output_type": "display_data"
    }
   ],
   "source": [
    "print('Original Values\\n')\n",
    "display(pubg[['winPlacePerc']].head())\n",
    "print('\\n\\nRounded values to 2 decimals')\n",
    "display(pubg[['winPlacePerc']].round(2).head())"
   ]
  },
  {
   "cell_type": "markdown",
   "metadata": {},
   "source": [
    "# 22.Take a sample of size 50 from the column damageDealt for 100 times and calculate its mean. Plot it on a histogram and comment on its distribution."
   ]
  },
  {
   "cell_type": "code",
   "execution_count": 27,
   "metadata": {},
   "outputs": [
    {
     "data": {
      "image/png": "[encoded data removed]",
      "text/plain": [
       "<Figure size 432x288 with 1 Axes>"
      ]
     },
     "metadata": {
      "needs_background": "light"
     },
     "output_type": "display_data"
    }
   ],
   "source": [
    "import statistics as st\n",
    "x=[st.mean(pubg['damageDealt'].sample(50,replace=True)) for i in range(100)]\n",
    "x=pd.Series(data=x)\n",
    "x.plot.hist().set(xlim=(min(x),max(x)));\n"
   ]
  },
  {
   "cell_type": "code",
   "execution_count": null,
   "metadata": {},
   "outputs": [],
   "source": []
  }
 ],
 "metadata": {
  "kernelspec": {
   "display_name": "Python 3",
   "language": "python",
   "name": "python3"
  },
  "language_info": {
   "codemirror_mode": {
    "name": "ipython",
    "version": 3
   },
   "file_extension": ".py",
   "mimetype": "text/x-python",
   "name": "python",
   "nbconvert_exporter": "python",
   "pygments_lexer": "ipython3",
   "version": "3.7.3"
  }
 },
 "nbformat": 4,
 "nbformat_minor": 2
}
